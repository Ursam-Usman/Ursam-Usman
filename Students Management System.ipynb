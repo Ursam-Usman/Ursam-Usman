{
  "nbformat": 4,
  "nbformat_minor": 0,
  "metadata": {
    "colab": {
      "provenance": []
    },
    "kernelspec": {
      "name": "python3",
      "display_name": "Python 3"
    },
    "language_info": {
      "name": "python"
    }
  },
  "cells": [
    {
      "cell_type": "code",
      "execution_count": 6,
      "metadata": {
        "colab": {
          "base_uri": "https://localhost:8080/"
        },
        "id": "2y5aPktfOCnY",
        "outputId": "b84bc652-dc8b-4c04-81a4-89983b5e7e67"
      },
      "outputs": [
        {
          "output_type": "stream",
          "name": "stdout",
          "text": [
            "What do you want to do\n",
            "1)Add student \n",
            "2)Remove student\n",
            "3)Search student\n",
            "4)View all record\n",
            "please enter what do you want: 3\n",
            "How many students you want to search: 2\n",
            "Enter student you want to search: subhan\n",
            "1\n",
            "Enter student you want to search: umair\n",
            "0\n"
          ]
        }
      ],
      "source": [
        "\n",
        "students=[\"Umair\",\"Ursam\",\"Saim\",\"subhan\"]\n",
        "s1=[]\n",
        "s=[]\n",
        "remove=[]\n",
        "add=[]\n",
        "add2=[]\n",
        "choice=[1,2,3,4]\n",
        "\n",
        "print(\"What do you want to do\\n1)Add student \\n2)Remove student\\n3)Search student\\n4)View all record\")\n",
        "\n",
        "i=int(input(\"please enter what do you want: \"))\n",
        "\n",
        "if i==choice[0]:\n",
        "  add1=int(input(\"How many students you want to add: \"))\n",
        "\n",
        "  for i in range(add1):\n",
        "    add=int(input(\"Enter student roll no you want to add:\"))\n",
        "    add21=(input(\"Enter student name you want to add:\"))\n",
        "\n",
        "    s.append(add)\n",
        "    s1.append(add21)\n",
        "\n",
        "    print(\"Student name is:\",s1,\"\\nStudent roll no is:\",s,)\n",
        "\n",
        "if i==choice[1]:\n",
        "  add2=int(input(\"How many students you want to add: \"))\n",
        "\n",
        "  for i in range(add2):\n",
        "   remove=input(\"Enter student name you want to remove: \")\n",
        "   students.remove(remove)\n",
        "  print(students)\n",
        "\n",
        "if i==choice[2]:\n",
        "   add3=int(input(\"How many students you want to search: \"))\n",
        "\n",
        "   for i in range(add3):\n",
        "    search=input(\"Enter student name you want to search: \")\n",
        "    students.count(search)\n",
        "    print( students.count(search))\n",
        "\n",
        "if i==choice[3]:\n",
        "  print(students)\n",
        "  print(\"This is list of these students.\")\n",
        "\n",
        "\n"
      ]
    },
    {
      "cell_type": "code",
      "source": [
        "\n"
      ],
      "metadata": {
        "id": "MKd1lyHH0yo6"
      },
      "execution_count": null,
      "outputs": []
    }
  ]
}