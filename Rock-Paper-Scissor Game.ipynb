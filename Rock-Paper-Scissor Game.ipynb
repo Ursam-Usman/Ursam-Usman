{
  "nbformat": 4,
  "nbformat_minor": 0,
  "metadata": {
    "colab": {
      "provenance": []
    },
    "kernelspec": {
      "name": "python3",
      "display_name": "Python 3"
    },
    "language_info": {
      "name": "python"
    }
  },
  "cells": [
    {
      "cell_type": "code",
      "execution_count": 1,
      "metadata": {
        "colab": {
          "base_uri": "https://localhost:8080/"
        },
        "id": "U8jK6M_yerJW",
        "outputId": "55c4521d-dba0-4074-b5e6-c5227bee534f"
      },
      "outputs": [
        {
          "output_type": "stream",
          "name": "stdout",
          "text": [
            "Rock paper seiccor game\n",
            "Lets get your turn\n",
            "\n",
            "Enter your turn: rock\n",
            "Computer won\n",
            "You entered rock and Computer entered paper\n",
            "\n",
            "You won 0 times\n",
            "Computer won 1 times\n",
            "\n",
            "Enter your turn: paper\n",
            "Match is Tied\n",
            "You entered paper and Computer entered paper\n",
            "\n",
            "You won 0 times\n",
            "Computer won 1 times\n",
            "\n",
            "Enter your turn: paper\n",
            "You won\n",
            "You entered paper and Computer entered rock\n",
            "\n",
            "You won 1 times\n",
            "Computer won 1 times\n",
            "\n",
            "Enter your turn: rock\n",
            "Computer won\n",
            "You entered rock and Computer entered paper\n",
            "\n",
            "You won 1 times\n",
            "Computer won 2 times\n",
            "\n",
            "Enter your turn: paper\n",
            "Match is Tied\n",
            "You entered paper and Computer entered paper\n",
            "\n",
            "You won 1 times\n",
            "Computer won 2 times\n",
            "\n",
            "I hope you enjoyed it\n"
          ]
        }
      ],
      "source": [
        "#Rock paper seiccor game\n",
        "print(\"Rock paper seiccor game\\nLets get your turn\\n\")\n",
        "import random\n",
        "ran=random\n",
        "i=[\"rock\",\"paper\",\"seiccor\"]\n",
        "win=0\n",
        "loss=0\n",
        "\n",
        "for j in range(5):\n",
        " c=input(\"Enter your turn: \")\n",
        " c=c.lower()\n",
        " ans=ran.choice(i)\n",
        "\n",
        " if c==\"paper\" and ans==\"rock\":\n",
        "  print(\"You won\")\n",
        "  print(f\"You entered {c} and Computer entered {ans}\")\n",
        "  win=win+1\n",
        "\n",
        " elif c==\"paper\" and ans==\"seiccor\":\n",
        "  print(\"Computer won\")\n",
        "  print(f\"You entered {c} and Computer entered {ans}\")\n",
        "  loss=loss+1\n",
        "\n",
        " elif c==\"paper\" and ans==\"paper\":\n",
        "  print(\"Match is Tied\")\n",
        "  print(f\"You entered {c} and Computer entered {ans}\")\n",
        "\n",
        " if c==\"rock\" and ans==\"seiccor\":\n",
        "  print(\"You won\")\n",
        "  print(f\"You entered {c} and Computer entered {ans}\")\n",
        "  win=win+1\n",
        "\n",
        " elif c==\"rock\" and ans==\"paper\":\n",
        "  print(\"Computer won\")\n",
        "  print(f\"You entered {c} and Computer entered {ans}\")\n",
        "  loss=loss+1\n",
        "\n",
        " elif c==\"rock\" and ans==\"rock\":\n",
        "  print(\"Match is Tied\")\n",
        "  print(f\"You entered {c} and Computer entered {ans}\")\n",
        "\n",
        " if c==\"seiccor\" and ans==\"paper\":\n",
        "  print(\"You won\")\n",
        "  print(f\"You entered {c} and Computer entered {ans}\")\n",
        "  win=win+1\n",
        "\n",
        " elif c==\"seiccor\" and ans==\"paper\":\n",
        "  print(\"Computer won\")\n",
        "  print(f\"You entered {c} and Computer entered {ans}\")\n",
        "  loss=loss+1\n",
        "\n",
        " elif c==\"seiccor\" and ans==\"seiccor\":\n",
        "  print(\"Match is Tied\")\n",
        "  print(f\"You entered {c} and Computer entered {ans}\")\n",
        "\n",
        "\n",
        " elif c!=\"rock\"and c!=\"paper\"and c!=\"seiccor\":\n",
        "  print(\"you entered some wrong word\")\n",
        " print(f\"\\nYou won {win} times\\nComputer won {loss} times\\n\")\n",
        "\n",
        "print(\"I hope you enjoyed it\")"
      ]
    }
  ]
}